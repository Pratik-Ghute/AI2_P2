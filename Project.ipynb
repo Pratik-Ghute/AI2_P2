{
    "cells": [
        {
            "attachments": {},
            "cell_type": "markdown",
            "metadata": {},
            "source": [
                "# Project: Classifying buildings post-Hurricane\n",
                "Univ.AI <br>\n",
                "AI-2 Cohort-4"
            ]
        },
        {
            "attachments": {},
            "cell_type": "markdown",
            "metadata": {},
            "source": [
                "## [DATASET](https://drive.google.com/file/d/1EH3p84xKMs_2m4ISSR7aHOQz61yxIv8L/view?usp=sharing)"
            ]
        },
        {
            "attachments": {},
            "cell_type": "markdown",
            "metadata": {},
            "source": [
                "### Names of the people who worked on the project:"
            ]
        },
        {
            "attachments": {},
            "cell_type": "markdown",
            "metadata": {},
            "source": [
                "Link to presentation: <br>\n",
                "Link to slides: <br>\n",
                "Link to poster: <br>\n",
                "Link to notebook: <br>"
            ]
        },
        {
            "cell_type": "code",
            "execution_count": 1,
            "metadata": {},
            "outputs": [],
            "source": [
                "import os\n",
                "import certifi\n",
                "import urllib3  # For handling https certificate verification \n",
                "import requests\n",
                "import zipfile\n",
                "import shutil\n",
                "import json\n",
                "import time\n",
                "import sys\n",
                "import cv2\n",
                "import numpy as np\n",
                "import pandas as pd\n",
                "from scipy.signal import convolve2d\n",
                "import scipy.ndimage as ndimage\n",
                "import subprocess\n",
                "from PIL import Image\n",
                "from matplotlib import cm\n",
                "from matplotlib import pyplot\n",
                "import matplotlib.pyplot as plt\n",
                "%matplotlib inline"
            ]
        },
        {
            "cell_type": "code",
            "execution_count": 2,
            "metadata": {},
            "outputs": [
                {
                    "name": "stderr",
                    "output_type": "stream",
                    "text": [
                        "2022-12-25 20:45:54.586047: I tensorflow/core/platform/cpu_feature_guard.cc:193] This TensorFlow binary is optimized with oneAPI Deep Neural Network Library (oneDNN) to use the following CPU instructions in performance-critical operations:  AVX2 FMA\n",
                        "To enable them in other operations, rebuild TensorFlow with the appropriate compiler flags.\n",
                        "2022-12-25 20:45:56.161650: W tensorflow/compiler/xla/stream_executor/platform/default/dso_loader.cc:64] Could not load dynamic library 'libnvinfer.so.7'; dlerror: libnvinfer.so.7: cannot open shared object file: No such file or directory; LD_LIBRARY_PATH: /home/munch/.local/lib/python3.10/site-packages/cv2/../../lib64:\n",
                        "2022-12-25 20:45:56.161782: W tensorflow/compiler/xla/stream_executor/platform/default/dso_loader.cc:64] Could not load dynamic library 'libnvinfer_plugin.so.7'; dlerror: libnvinfer_plugin.so.7: cannot open shared object file: No such file or directory; LD_LIBRARY_PATH: /home/munch/.local/lib/python3.10/site-packages/cv2/../../lib64:\n",
                        "2022-12-25 20:45:56.161794: W tensorflow/compiler/tf2tensorrt/utils/py_utils.cc:38] TF-TRT Warning: Cannot dlopen some TensorRT libraries. If you would like to use Nvidia GPU with TensorRT, please make sure the missing libraries mentioned above are installed properly.\n"
                    ]
                }
            ],
            "source": [
                "import keras\n",
                "import os, shutil\n",
                "import numpy as np\n",
                "import matplotlib.pyplot as plt\n",
                "from keras.models import load_model\n",
                "from keras import layers\n",
                "from keras import models\n",
                "from keras.preprocessing.image import ImageDataGenerator\n",
                "from keras import optimizers\n",
                "from keras.preprocessing import image\n",
                "from keras.layers import LeakyReLU\n",
                "from keras.regularizers import l2\n",
                "from keras import optimizers\n",
                "from keras.preprocessing.image import ImageDataGenerator\n",
                "\n",
                "\n"
            ]
        },
        {
            "cell_type": "code",
            "execution_count": 3,
            "metadata": {},
            "outputs": [],
            "source": [
                "\n",
                "train_damage_dir = 'data/train_another/damage'\n",
                "validation_damage_dir = 'data/validation_another/damage'\n",
                "test_damage_dir = 'data/test/damage'\n",
                "test_another_damage_dir = 'data/test_another/damage'\n",
                "\n",
                "\n",
                "train_nodamage_dir = 'data/train_another/no_damage'\n",
                "validation_nodamage_dir = 'data/validation_another/no_damage'\n",
                "test_nodamage_dir = 'data/test/no_damage'\n",
                "test_another_nodamage_dir = 'data/test_another/no_damage'"
            ]
        },
        {
            "cell_type": "code",
            "execution_count": 4,
            "metadata": {},
            "outputs": [
                {
                    "name": "stderr",
                    "output_type": "stream",
                    "text": [
                        "2022-12-25 20:46:12.456137: I tensorflow/compiler/xla/stream_executor/cuda/cuda_gpu_executor.cc:967] could not open file to read NUMA node: /sys/bus/pci/devices/0000:01:00.0/numa_node\n",
                        "Your kernel may have been built without NUMA support.\n"
                    ]
                },
                {
                    "name": "stdout",
                    "output_type": "stream",
                    "text": [
                        "Model: \"sequential\"\n",
                        "_________________________________________________________________\n",
                        " Layer (type)                Output Shape              Param #   \n",
                        "=================================================================\n",
                        " conv2d (Conv2D)             (None, 148, 148, 32)      896       \n",
                        "                                                                 \n",
                        " max_pooling2d (MaxPooling2D  (None, 74, 74, 32)       0         \n",
                        " )                                                               \n",
                        "                                                                 \n",
                        " conv2d_1 (Conv2D)           (None, 72, 72, 64)        18496     \n",
                        "                                                                 \n",
                        " max_pooling2d_1 (MaxPooling  (None, 36, 36, 64)       0         \n",
                        " 2D)                                                             \n",
                        "                                                                 \n",
                        " conv2d_2 (Conv2D)           (None, 34, 34, 128)       73856     \n",
                        "                                                                 \n",
                        " max_pooling2d_2 (MaxPooling  (None, 17, 17, 128)      0         \n",
                        " 2D)                                                             \n",
                        "                                                                 \n",
                        " conv2d_3 (Conv2D)           (None, 15, 15, 128)       147584    \n",
                        "                                                                 \n",
                        " max_pooling2d_3 (MaxPooling  (None, 7, 7, 128)        0         \n",
                        " 2D)                                                             \n",
                        "                                                                 \n",
                        " flatten (Flatten)           (None, 6272)              0         \n",
                        "                                                                 \n",
                        " dropout (Dropout)           (None, 6272)              0         \n",
                        "                                                                 \n",
                        " dense (Dense)               (None, 512)               3211776   \n",
                        "                                                                 \n",
                        " dense_1 (Dense)             (None, 1)                 513       \n",
                        "                                                                 \n",
                        "=================================================================\n",
                        "Total params: 3,453,121\n",
                        "Trainable params: 3,453,121\n",
                        "Non-trainable params: 0\n",
                        "_________________________________________________________________\n"
                    ]
                },
                {
                    "name": "stderr",
                    "output_type": "stream",
                    "text": [
                        "2022-12-25 20:46:12.507544: I tensorflow/compiler/xla/stream_executor/cuda/cuda_gpu_executor.cc:967] could not open file to read NUMA node: /sys/bus/pci/devices/0000:01:00.0/numa_node\n",
                        "Your kernel may have been built without NUMA support.\n",
                        "2022-12-25 20:46:12.507615: I tensorflow/compiler/xla/stream_executor/cuda/cuda_gpu_executor.cc:967] could not open file to read NUMA node: /sys/bus/pci/devices/0000:01:00.0/numa_node\n",
                        "Your kernel may have been built without NUMA support.\n",
                        "2022-12-25 20:46:12.508206: I tensorflow/core/platform/cpu_feature_guard.cc:193] This TensorFlow binary is optimized with oneAPI Deep Neural Network Library (oneDNN) to use the following CPU instructions in performance-critical operations:  AVX2 FMA\n",
                        "To enable them in other operations, rebuild TensorFlow with the appropriate compiler flags.\n",
                        "2022-12-25 20:46:12.527050: I tensorflow/compiler/xla/stream_executor/cuda/cuda_gpu_executor.cc:967] could not open file to read NUMA node: /sys/bus/pci/devices/0000:01:00.0/numa_node\n",
                        "Your kernel may have been built without NUMA support.\n",
                        "2022-12-25 20:46:12.527136: I tensorflow/compiler/xla/stream_executor/cuda/cuda_gpu_executor.cc:967] could not open file to read NUMA node: /sys/bus/pci/devices/0000:01:00.0/numa_node\n",
                        "Your kernel may have been built without NUMA support.\n",
                        "2022-12-25 20:46:12.527181: I tensorflow/compiler/xla/stream_executor/cuda/cuda_gpu_executor.cc:967] could not open file to read NUMA node: /sys/bus/pci/devices/0000:01:00.0/numa_node\n",
                        "Your kernel may have been built without NUMA support.\n",
                        "2022-12-25 20:46:13.921596: I tensorflow/compiler/xla/stream_executor/cuda/cuda_gpu_executor.cc:967] could not open file to read NUMA node: /sys/bus/pci/devices/0000:01:00.0/numa_node\n",
                        "Your kernel may have been built without NUMA support.\n",
                        "2022-12-25 20:46:13.921821: I tensorflow/compiler/xla/stream_executor/cuda/cuda_gpu_executor.cc:967] could not open file to read NUMA node: /sys/bus/pci/devices/0000:01:00.0/numa_node\n",
                        "Your kernel may have been built without NUMA support.\n",
                        "2022-12-25 20:46:13.921836: I tensorflow/core/common_runtime/gpu/gpu_device.cc:1700] Could not identify NUMA node of platform GPU id 0, defaulting to 0.  Your kernel may not have been built with NUMA support.\n",
                        "2022-12-25 20:46:13.921891: I tensorflow/compiler/xla/stream_executor/cuda/cuda_gpu_executor.cc:967] could not open file to read NUMA node: /sys/bus/pci/devices/0000:01:00.0/numa_node\n",
                        "Your kernel may have been built without NUMA support.\n",
                        "2022-12-25 20:46:13.921934: I tensorflow/core/common_runtime/gpu/gpu_device.cc:1613] Created device /job:localhost/replica:0/task:0/device:GPU:0 with 4577 MB memory:  -> device: 0, name: NVIDIA GeForce GTX 1060, pci bus id: 0000:01:00.0, compute capability: 6.1\n"
                    ]
                }
            ],
            "source": [
                "# we need to create a convolutional neural netowrk to calssify a series of satellite images of cyclone damaged buildings into\n",
                "# damged and non-damged. these are the only two classes we are interested in.\n",
                "# use various strategies to improve the accuracy of the model, such as Adam, Drop out, Batch Normalization\n",
                "# also use max pooling appropriately in the network\n",
                "# the input shape of the images is 150x150x3\n",
                "\n",
                "\n",
                "\n",
                "\n",
                "model = models.Sequential()\n",
                "model.add(layers.Conv2D(32,(3,3), activation = 'relu', input_shape = (150,150,3)))\n",
                "model.add(layers.MaxPooling2D((2,2)))\n",
                "model.add(layers.Conv2D(64,(3,3), activation = 'relu'))\n",
                "model.add(layers.MaxPooling2D((2,2)))\n",
                "model.add(layers.Conv2D(128,(3,3), activation = 'relu'))\n",
                "model.add(layers.MaxPooling2D((2,2)))\n",
                "model.add(layers.Conv2D(128,(3,3), activation = 'relu'))\n",
                "model.add(layers.MaxPooling2D((2,2)))\n",
                "model.add(layers.Flatten())\n",
                "model.add(layers.Dropout(0.5))\n",
                "model.add(layers.Dense(512, activation = 'relu'))\n",
                "model.add(layers.Dense(1, activation = 'sigmoid'))\n",
                "model.summary() \n",
                "\n"
            ]
        },
        {
            "cell_type": "code",
            "execution_count": 5,
            "metadata": {},
            "outputs": [
                {
                    "name": "stderr",
                    "output_type": "stream",
                    "text": [
                        "/home/munch/.local/lib/python3.10/site-packages/keras/optimizers/optimizer_v2/adam.py:117: UserWarning: The `lr` argument is deprecated, use `learning_rate` instead.\n",
                        "  super().__init__(name, **kwargs)\n"
                    ]
                }
            ],
            "source": [
                "#compile the model, use the adam optimizer and binary cross entropy loss function\n",
                "model.compile(loss = 'binary_crossentropy', optimizer = optimizers.Adam(lr = 1e-4), metrics = ['acc'])\n",
                "\n"
            ]
        },
        {
            "cell_type": "code",
            "execution_count": 6,
            "metadata": {},
            "outputs": [
                {
                    "name": "stdout",
                    "output_type": "stream",
                    "text": [
                        "Found 10000 images belonging to 2 classes.\n",
                        "Found 2000 images belonging to 2 classes.\n"
                    ]
                }
            ],
            "source": [
                "\n",
                "#normalize the image pixel value to be between 0 and 1\n",
                "train_datagen = ImageDataGenerator(rescale=1./255)\n",
                "test_datagen = ImageDataGenerator(rescale=1./255)\n",
                "\n",
                "train_generator = train_datagen.flow_from_directory(\n",
                "                    'data/train_another', \n",
                "                    target_size = (150,150),\n",
                "                    batch_size = 20,\n",
                "                    class_mode = 'binary')\n",
                "validation_generator = test_datagen.flow_from_directory(\n",
                "                    'data/validation_another',\n",
                "                    target_size = (150,150),\n",
                "                    batch_size = 20,\n",
                "                    class_mode = 'binary')"
            ]
        },
        {
            "cell_type": "code",
            "execution_count": 7,
            "metadata": {},
            "outputs": [
                {
                    "name": "stderr",
                    "output_type": "stream",
                    "text": [
                        "/tmp/ipykernel_27563/687701678.py:1: UserWarning: `Model.fit_generator` is deprecated and will be removed in a future version. Please use `Model.fit`, which supports generators.\n",
                        "  history = model.fit_generator(\n"
                    ]
                },
                {
                    "name": "stdout",
                    "output_type": "stream",
                    "text": [
                        "Epoch 1/50\n"
                    ]
                },
                {
                    "name": "stderr",
                    "output_type": "stream",
                    "text": [
                        "2022-12-25 20:46:21.099009: I tensorflow/compiler/xla/stream_executor/cuda/cuda_dnn.cc:428] Loaded cuDNN version 8401\n"
                    ]
                },
                {
                    "name": "stdout",
                    "output_type": "stream",
                    "text": [
                        "100/100 [==============================] - 37s 345ms/step - loss: 0.6792 - acc: 0.5625 - val_loss: 0.6227 - val_acc: 0.8210\n",
                        "Epoch 2/50\n",
                        "100/100 [==============================] - 29s 291ms/step - loss: 0.5267 - acc: 0.7625 - val_loss: 0.4087 - val_acc: 0.8310\n",
                        "Epoch 3/50\n",
                        "100/100 [==============================] - 30s 297ms/step - loss: 0.4391 - acc: 0.8180 - val_loss: 0.3945 - val_acc: 0.8490\n",
                        "Epoch 4/50\n",
                        "100/100 [==============================] - 29s 286ms/step - loss: 0.4117 - acc: 0.8265 - val_loss: 0.3725 - val_acc: 0.8550\n",
                        "Epoch 5/50\n",
                        "100/100 [==============================] - 28s 281ms/step - loss: 0.3953 - acc: 0.8460 - val_loss: 0.3428 - val_acc: 0.8670\n",
                        "Epoch 6/50\n",
                        "100/100 [==============================] - 29s 294ms/step - loss: 0.3402 - acc: 0.8650 - val_loss: 0.3234 - val_acc: 0.8830\n",
                        "Epoch 7/50\n",
                        "100/100 [==============================] - 28s 282ms/step - loss: 0.3540 - acc: 0.8575 - val_loss: 0.3470 - val_acc: 0.8620\n",
                        "Epoch 8/50\n",
                        "100/100 [==============================] - 30s 295ms/step - loss: 0.2919 - acc: 0.8970 - val_loss: 0.2410 - val_acc: 0.9060\n",
                        "Epoch 9/50\n",
                        "100/100 [==============================] - 29s 288ms/step - loss: 0.2373 - acc: 0.9085 - val_loss: 0.2912 - val_acc: 0.8980\n",
                        "Epoch 10/50\n",
                        "100/100 [==============================] - 29s 294ms/step - loss: 0.2518 - acc: 0.9040 - val_loss: 0.1863 - val_acc: 0.9270\n",
                        "Epoch 11/50\n",
                        "100/100 [==============================] - 30s 299ms/step - loss: 0.2357 - acc: 0.9095 - val_loss: 0.2624 - val_acc: 0.9090\n",
                        "Epoch 12/50\n",
                        "100/100 [==============================] - 29s 293ms/step - loss: 0.2172 - acc: 0.9150 - val_loss: 0.1710 - val_acc: 0.9310\n",
                        "Epoch 13/50\n",
                        "100/100 [==============================] - 28s 284ms/step - loss: 0.1800 - acc: 0.9240 - val_loss: 0.1946 - val_acc: 0.9180\n",
                        "Epoch 14/50\n",
                        "100/100 [==============================] - 28s 282ms/step - loss: 0.1889 - acc: 0.9250 - val_loss: 0.2915 - val_acc: 0.8910\n",
                        "Epoch 15/50\n",
                        "100/100 [==============================] - 28s 284ms/step - loss: 0.1746 - acc: 0.9295 - val_loss: 0.1712 - val_acc: 0.9350\n",
                        "Epoch 16/50\n",
                        "100/100 [==============================] - 29s 287ms/step - loss: 0.1713 - acc: 0.9330 - val_loss: 0.1407 - val_acc: 0.9360\n",
                        "Epoch 17/50\n",
                        "100/100 [==============================] - 29s 292ms/step - loss: 0.1484 - acc: 0.9405 - val_loss: 0.1420 - val_acc: 0.9460\n",
                        "Epoch 18/50\n",
                        "100/100 [==============================] - 28s 279ms/step - loss: 0.1633 - acc: 0.9345 - val_loss: 0.1314 - val_acc: 0.9440\n",
                        "Epoch 19/50\n",
                        "100/100 [==============================] - 28s 281ms/step - loss: 0.1476 - acc: 0.9430 - val_loss: 0.1406 - val_acc: 0.9410\n",
                        "Epoch 20/50\n",
                        "100/100 [==============================] - 28s 282ms/step - loss: 0.1309 - acc: 0.9450 - val_loss: 0.1027 - val_acc: 0.9650\n",
                        "Epoch 21/50\n",
                        "100/100 [==============================] - 28s 283ms/step - loss: 0.1214 - acc: 0.9490 - val_loss: 0.1437 - val_acc: 0.9410\n",
                        "Epoch 22/50\n",
                        "100/100 [==============================] - 28s 276ms/step - loss: 0.1424 - acc: 0.9445 - val_loss: 0.1160 - val_acc: 0.9510\n",
                        "Epoch 23/50\n",
                        "100/100 [==============================] - 28s 275ms/step - loss: 0.1131 - acc: 0.9535 - val_loss: 0.1173 - val_acc: 0.9500\n",
                        "Epoch 24/50\n",
                        "100/100 [==============================] - 29s 291ms/step - loss: 0.1066 - acc: 0.9630 - val_loss: 0.1152 - val_acc: 0.9530\n",
                        "Epoch 25/50\n",
                        "100/100 [==============================] - 29s 286ms/step - loss: 0.1144 - acc: 0.9560 - val_loss: 0.1216 - val_acc: 0.9540\n",
                        "Epoch 26/50\n",
                        "100/100 [==============================] - 30s 297ms/step - loss: 0.1117 - acc: 0.9595 - val_loss: 0.1289 - val_acc: 0.9490\n",
                        "Epoch 27/50\n",
                        "100/100 [==============================] - 28s 281ms/step - loss: 0.1347 - acc: 0.9495 - val_loss: 0.1797 - val_acc: 0.9360\n",
                        "Epoch 28/50\n",
                        "100/100 [==============================] - 30s 299ms/step - loss: 0.1377 - acc: 0.9450 - val_loss: 0.1156 - val_acc: 0.9530\n",
                        "Epoch 29/50\n",
                        "100/100 [==============================] - 31s 306ms/step - loss: 0.1047 - acc: 0.9610 - val_loss: 0.1071 - val_acc: 0.9590\n",
                        "Epoch 30/50\n",
                        "100/100 [==============================] - 31s 307ms/step - loss: 0.0909 - acc: 0.9630 - val_loss: 0.1318 - val_acc: 0.9480\n",
                        "Epoch 31/50\n",
                        "100/100 [==============================] - 32s 317ms/step - loss: 0.1211 - acc: 0.9540 - val_loss: 0.1135 - val_acc: 0.9540\n",
                        "Epoch 32/50\n",
                        "100/100 [==============================] - 46s 462ms/step - loss: 0.1167 - acc: 0.9505 - val_loss: 0.0964 - val_acc: 0.9620\n",
                        "Epoch 33/50\n",
                        "100/100 [==============================] - 36s 365ms/step - loss: 0.0832 - acc: 0.9640 - val_loss: 0.1040 - val_acc: 0.9610\n",
                        "Epoch 34/50\n",
                        "100/100 [==============================] - 31s 307ms/step - loss: 0.0844 - acc: 0.9690 - val_loss: 0.1117 - val_acc: 0.9650\n",
                        "Epoch 35/50\n",
                        "100/100 [==============================] - 29s 286ms/step - loss: 0.0887 - acc: 0.9660 - val_loss: 0.1141 - val_acc: 0.9570\n",
                        "Epoch 36/50\n",
                        "100/100 [==============================] - 30s 296ms/step - loss: 0.0933 - acc: 0.9640 - val_loss: 0.1348 - val_acc: 0.9490\n",
                        "Epoch 37/50\n",
                        "100/100 [==============================] - 29s 292ms/step - loss: 0.0990 - acc: 0.9655 - val_loss: 0.1303 - val_acc: 0.9510\n",
                        "Epoch 38/50\n",
                        "100/100 [==============================] - 30s 303ms/step - loss: 0.0895 - acc: 0.9665 - val_loss: 0.1035 - val_acc: 0.9650\n",
                        "Epoch 39/50\n",
                        "100/100 [==============================] - 29s 290ms/step - loss: 0.0860 - acc: 0.9670 - val_loss: 0.1073 - val_acc: 0.9620\n",
                        "Epoch 40/50\n",
                        "100/100 [==============================] - 31s 309ms/step - loss: 0.0878 - acc: 0.9640 - val_loss: 0.1092 - val_acc: 0.9620\n",
                        "Epoch 41/50\n",
                        "100/100 [==============================] - 30s 296ms/step - loss: 0.0910 - acc: 0.9630 - val_loss: 0.1510 - val_acc: 0.9430\n",
                        "Epoch 42/50\n",
                        "100/100 [==============================] - 31s 309ms/step - loss: 0.1042 - acc: 0.9560 - val_loss: 0.1045 - val_acc: 0.9670\n",
                        "Epoch 43/50\n",
                        "100/100 [==============================] - 30s 298ms/step - loss: 0.0966 - acc: 0.9620 - val_loss: 0.1015 - val_acc: 0.9570\n",
                        "Epoch 44/50\n",
                        "100/100 [==============================] - 30s 300ms/step - loss: 0.0782 - acc: 0.9680 - val_loss: 0.0958 - val_acc: 0.9590\n",
                        "Epoch 45/50\n",
                        "100/100 [==============================] - 33s 311ms/step - loss: 0.0784 - acc: 0.9685 - val_loss: 0.0753 - val_acc: 0.9730\n",
                        "Epoch 46/50\n",
                        "100/100 [==============================] - 28s 279ms/step - loss: 0.0794 - acc: 0.9665 - val_loss: 0.0957 - val_acc: 0.9670\n",
                        "Epoch 47/50\n",
                        "100/100 [==============================] - 27s 274ms/step - loss: 0.0969 - acc: 0.9620 - val_loss: 0.0784 - val_acc: 0.9740\n",
                        "Epoch 48/50\n",
                        "100/100 [==============================] - 29s 287ms/step - loss: 0.0711 - acc: 0.9690 - val_loss: 0.0847 - val_acc: 0.9740\n",
                        "Epoch 49/50\n",
                        "100/100 [==============================] - 29s 289ms/step - loss: 0.0754 - acc: 0.9705 - val_loss: 0.0923 - val_acc: 0.9670\n",
                        "Epoch 50/50\n",
                        "100/100 [==============================] - 29s 288ms/step - loss: 0.0876 - acc: 0.9680 - val_loss: 0.0903 - val_acc: 0.9630\n"
                    ]
                }
            ],
            "source": [
                "history = model.fit_generator(\n",
                "            train_generator,\n",
                "            steps_per_epoch=100,\n",
                "            epochs=50,\n",
                "            validation_data=validation_generator,\n",
                "            validation_steps=50)"
            ]
        },
        {
            "cell_type": "markdown",
            "metadata": {},
            "source": [
                "model.save('model.h5')"
            ]
        },
        {
            "cell_type": "code",
            "execution_count": 8,
            "metadata": {},
            "outputs": [],
            "source": [
                "model.save('model_with_dropout.h5')"
            ]
        },
        {
            "cell_type": "code",
            "execution_count": null,
            "metadata": {},
            "outputs": [],
            "source": []
        }
    ],
    "metadata": {
        "kernelspec": {
            "display_name": "Python 3 (ipykernel)",
            "language": "python",
            "name": "python3"
        },
        "language_info": {
            "codemirror_mode": {
                "name": "ipython",
                "version": 3
            },
            "file_extension": ".py",
            "mimetype": "text/x-python",
            "name": "python",
            "nbconvert_exporter": "python",
            "pygments_lexer": "ipython3",
            "version": "3.10.6"
        },
        "vscode": {
            "interpreter": {
                "hash": "3751913ea9f5bd031e0b6a9f249a184a00fb379186ae8976a2500bce67b98d17"
            }
        }
    },
    "nbformat": 4,
    "nbformat_minor": 0
}
