{
    "cells": [
        {
            "attachments": {},
            "cell_type": "markdown",
            "metadata": {},
            "source": [
                "# Project: Classifying buildings post-Hurricane\n",
                "Univ.AI <br>\n",
                "AI-2 Cohort-4"
            ]
        },
        {
            "attachments": {},
            "cell_type": "markdown",
            "metadata": {},
            "source": [
                "## [DATASET](https://drive.google.com/file/d/1EH3p84xKMs_2m4ISSR7aHOQz61yxIv8L/view?usp=sharing)"
            ]
        },
        {
            "attachments": {},
            "cell_type": "markdown",
            "metadata": {},
            "source": [
                "### Names of the people who worked on the project:"
            ]
        },
        {
            "attachments": {},
            "cell_type": "markdown",
            "metadata": {},
            "source": [
                "Link to presentation: <br>\n",
                "Link to slides: <br>\n",
                "Link to poster: <br>\n",
                "Link to notebook: <br>"
            ]
        },
        {
            "cell_type": "code",
            "execution_count": 1,
            "metadata": {},
            "outputs": [],
            "source": [
                "import os\n",
                "import certifi\n",
                "import urllib3  # For handling https certificate verification \n",
                "import requests\n",
                "import zipfile\n",
                "import shutil\n",
                "import json\n",
                "import time\n",
                "import sys\n",
                "import cv2\n",
                "import numpy as np\n",
                "import pandas as pd\n",
                "from scipy.signal import convolve2d\n",
                "import scipy.ndimage as ndimage\n",
                "import subprocess\n",
                "from PIL import Image\n",
                "from matplotlib import cm\n",
                "from matplotlib import pyplot\n",
                "import matplotlib.pyplot as plt\n",
                "%matplotlib inline"
            ]
        },
        {
            "cell_type": "code",
            "execution_count": 2,
            "metadata": {},
            "outputs": [
                {
                    "name": "stderr",
                    "output_type": "stream",
                    "text": [
                        "2022-12-24 04:08:26.351958: I tensorflow/core/platform/cpu_feature_guard.cc:193] This TensorFlow binary is optimized with oneAPI Deep Neural Network Library (oneDNN) to use the following CPU instructions in performance-critical operations:  AVX2 FMA\n",
                        "To enable them in other operations, rebuild TensorFlow with the appropriate compiler flags.\n",
                        "2022-12-24 04:08:29.080100: W tensorflow/compiler/xla/stream_executor/platform/default/dso_loader.cc:64] Could not load dynamic library 'libnvinfer.so.7'; dlerror: libnvinfer.so.7: cannot open shared object file: No such file or directory; LD_LIBRARY_PATH: /home/munch/.local/lib/python3.10/site-packages/cv2/../../lib64:\n",
                        "2022-12-24 04:08:29.080242: W tensorflow/compiler/xla/stream_executor/platform/default/dso_loader.cc:64] Could not load dynamic library 'libnvinfer_plugin.so.7'; dlerror: libnvinfer_plugin.so.7: cannot open shared object file: No such file or directory; LD_LIBRARY_PATH: /home/munch/.local/lib/python3.10/site-packages/cv2/../../lib64:\n",
                        "2022-12-24 04:08:29.080253: W tensorflow/compiler/tf2tensorrt/utils/py_utils.cc:38] TF-TRT Warning: Cannot dlopen some TensorRT libraries. If you would like to use Nvidia GPU with TensorRT, please make sure the missing libraries mentioned above are installed properly.\n"
                    ]
                }
            ],
            "source": [
                "import keras\n",
                "import h5py\n",
                "import PIL.Image\n",
                "import os, shutil\n",
                "from keras.models import load_model\n",
                "from keras import layers\n",
                "from keras import models\n",
                "from keras.preprocessing.image import ImageDataGenerator\n",
                "from keras import optimizers\n",
                "from keras.preprocessing import image\n",
                "import numpy as np\n",
                "import matplotlib.pyplot as plt\n",
                "from keras.layers import LeakyReLU\n",
                "from keras.regularizers import l2"
            ]
        },
        {
            "cell_type": "code",
            "execution_count": 3,
            "metadata": {},
            "outputs": [],
            "source": [
                "\n",
                "train_damage_dir = 'data/train_another/damage'\n",
                "validation_damage_dir = 'data/validation_another/damage'\n",
                "test_damage_dir = 'data/test/damage'\n",
                "test_another_damage_dir = 'data/test_another/damage'\n",
                "\n",
                "\n",
                "train_nodamage_dir = 'data/train_another/no_damage'\n",
                "validation_nodamage_dir = 'data/validation_another/no_damage'\n",
                "test_nodamage_dir = 'data/test/no_damage'\n",
                "test_another_nodamage_dir = 'data/test_another/no_damage'"
            ]
        },
        {
            "cell_type": "code",
            "execution_count": 4,
            "metadata": {},
            "outputs": [
                {
                    "name": "stdout",
                    "output_type": "stream",
                    "text": [
                        "total training damage images:  5000\n",
                        "total validation damage images:  1000\n",
                        "total test damage images:  1000\n",
                        "total test another damage images:  8000\n",
                        "total training no damage images:  5000\n",
                        "total validation no damage images:  1000\n",
                        "total test another no damage images:  1000\n",
                        "total test another no damage images:  1000\n"
                    ]
                }
            ],
            "source": [
                "print('total training damage images: ',len(os.listdir(train_damage_dir)))\n",
                "print('total validation damage images: ',len(os.listdir(validation_damage_dir)))\n",
                "print('total test damage images: ',len(os.listdir(test_damage_dir)))\n",
                "print('total test another damage images: ',len(os.listdir(test_another_damage_dir)))\n",
                "\n",
                "\n",
                "print('total training no damage images: ',len(os.listdir(train_nodamage_dir)))\n",
                "print('total validation no damage images: ',len(os.listdir(validation_nodamage_dir)))\n",
                "print('total test another no damage images: ',len(os.listdir(test_nodamage_dir)))\n",
                "print('total test another no damage images: ',len(os.listdir(test_another_nodamage_dir)))\n"
            ]
        },
        {
            "cell_type": "code",
            "execution_count": 5,
            "metadata": {},
            "outputs": [
                {
                    "name": "stderr",
                    "output_type": "stream",
                    "text": [
                        "2022-12-24 04:08:36.879839: I tensorflow/compiler/xla/stream_executor/cuda/cuda_gpu_executor.cc:967] could not open file to read NUMA node: /sys/bus/pci/devices/0000:01:00.0/numa_node\n",
                        "Your kernel may have been built without NUMA support.\n",
                        "2022-12-24 04:08:37.090136: I tensorflow/compiler/xla/stream_executor/cuda/cuda_gpu_executor.cc:967] could not open file to read NUMA node: /sys/bus/pci/devices/0000:01:00.0/numa_node\n",
                        "Your kernel may have been built without NUMA support.\n",
                        "2022-12-24 04:08:37.090229: I tensorflow/compiler/xla/stream_executor/cuda/cuda_gpu_executor.cc:967] could not open file to read NUMA node: /sys/bus/pci/devices/0000:01:00.0/numa_node\n",
                        "Your kernel may have been built without NUMA support.\n",
                        "2022-12-24 04:08:37.092513: I tensorflow/core/platform/cpu_feature_guard.cc:193] This TensorFlow binary is optimized with oneAPI Deep Neural Network Library (oneDNN) to use the following CPU instructions in performance-critical operations:  AVX2 FMA\n",
                        "To enable them in other operations, rebuild TensorFlow with the appropriate compiler flags.\n",
                        "2022-12-24 04:08:37.100304: I tensorflow/compiler/xla/stream_executor/cuda/cuda_gpu_executor.cc:967] could not open file to read NUMA node: /sys/bus/pci/devices/0000:01:00.0/numa_node\n",
                        "Your kernel may have been built without NUMA support.\n",
                        "2022-12-24 04:08:37.100503: I tensorflow/compiler/xla/stream_executor/cuda/cuda_gpu_executor.cc:967] could not open file to read NUMA node: /sys/bus/pci/devices/0000:01:00.0/numa_node\n",
                        "Your kernel may have been built without NUMA support.\n",
                        "2022-12-24 04:08:37.100558: I tensorflow/compiler/xla/stream_executor/cuda/cuda_gpu_executor.cc:967] could not open file to read NUMA node: /sys/bus/pci/devices/0000:01:00.0/numa_node\n",
                        "Your kernel may have been built without NUMA support.\n",
                        "2022-12-24 04:08:39.303911: I tensorflow/compiler/xla/stream_executor/cuda/cuda_gpu_executor.cc:967] could not open file to read NUMA node: /sys/bus/pci/devices/0000:01:00.0/numa_node\n",
                        "Your kernel may have been built without NUMA support.\n",
                        "2022-12-24 04:08:39.304621: I tensorflow/compiler/xla/stream_executor/cuda/cuda_gpu_executor.cc:967] could not open file to read NUMA node: /sys/bus/pci/devices/0000:01:00.0/numa_node\n",
                        "Your kernel may have been built without NUMA support.\n",
                        "2022-12-24 04:08:39.304642: I tensorflow/core/common_runtime/gpu/gpu_device.cc:1700] Could not identify NUMA node of platform GPU id 0, defaulting to 0.  Your kernel may not have been built with NUMA support.\n",
                        "2022-12-24 04:08:39.304726: I tensorflow/compiler/xla/stream_executor/cuda/cuda_gpu_executor.cc:967] could not open file to read NUMA node: /sys/bus/pci/devices/0000:01:00.0/numa_node\n",
                        "Your kernel may have been built without NUMA support.\n",
                        "2022-12-24 04:08:39.305208: I tensorflow/core/common_runtime/gpu/gpu_device.cc:1613] Created device /job:localhost/replica:0/task:0/device:GPU:0 with 4577 MB memory:  -> device: 0, name: NVIDIA GeForce GTX 1060, pci bus id: 0000:01:00.0, compute capability: 6.1\n"
                    ]
                }
            ],
            "source": [
                "from keras import layers\n",
                "from keras import models\n",
                "model = models.Sequential()\n",
                "model.add(layers.Conv2D(32,(3,3), activation = 'relu', input_shape = (150,150,3)))\n",
                "model.add(layers.MaxPooling2D((2,2)))\n",
                "model.add(layers.Conv2D(64,(3,3), activation = 'relu'))\n",
                "model.add(layers.MaxPooling2D((2,2)))\n",
                "model.add(layers.Conv2D(128,(3,3), activation = 'relu'))\n",
                "model.add(layers.MaxPooling2D((2,2)))\n",
                "model.add(layers.Conv2D(128,(3,3), activation = 'relu'))\n",
                "model.add(layers.MaxPooling2D((2,2)))\n",
                "model.add(layers.Flatten())\n",
                "model.add(layers.Dense(512,activation = 'relu'))\n",
                "model.add(layers.Dense(1, activation = 'sigmoid'))"
            ]
        },
        {
            "cell_type": "code",
            "execution_count": 6,
            "metadata": {},
            "outputs": [
                {
                    "name": "stdout",
                    "output_type": "stream",
                    "text": [
                        "Model: \"sequential\"\n",
                        "_________________________________________________________________\n",
                        " Layer (type)                Output Shape              Param #   \n",
                        "=================================================================\n",
                        " conv2d (Conv2D)             (None, 148, 148, 32)      896       \n",
                        "                                                                 \n",
                        " max_pooling2d (MaxPooling2D  (None, 74, 74, 32)       0         \n",
                        " )                                                               \n",
                        "                                                                 \n",
                        " conv2d_1 (Conv2D)           (None, 72, 72, 64)        18496     \n",
                        "                                                                 \n",
                        " max_pooling2d_1 (MaxPooling  (None, 36, 36, 64)       0         \n",
                        " 2D)                                                             \n",
                        "                                                                 \n",
                        " conv2d_2 (Conv2D)           (None, 34, 34, 128)       73856     \n",
                        "                                                                 \n",
                        " max_pooling2d_2 (MaxPooling  (None, 17, 17, 128)      0         \n",
                        " 2D)                                                             \n",
                        "                                                                 \n",
                        " conv2d_3 (Conv2D)           (None, 15, 15, 128)       147584    \n",
                        "                                                                 \n",
                        " max_pooling2d_3 (MaxPooling  (None, 7, 7, 128)        0         \n",
                        " 2D)                                                             \n",
                        "                                                                 \n",
                        " flatten (Flatten)           (None, 6272)              0         \n",
                        "                                                                 \n",
                        " dense (Dense)               (None, 512)               3211776   \n",
                        "                                                                 \n",
                        " dense_1 (Dense)             (None, 1)                 513       \n",
                        "                                                                 \n",
                        "=================================================================\n",
                        "Total params: 3,453,121\n",
                        "Trainable params: 3,453,121\n",
                        "Non-trainable params: 0\n",
                        "_________________________________________________________________\n"
                    ]
                }
            ],
            "source": [
                "model.summary()\n"
            ]
        },
        {
            "cell_type": "code",
            "execution_count": 7,
            "metadata": {},
            "outputs": [
                {
                    "name": "stderr",
                    "output_type": "stream",
                    "text": [
                        "/home/munch/.local/lib/python3.10/site-packages/keras/optimizers/optimizer_v2/rmsprop.py:143: UserWarning: The `lr` argument is deprecated, use `learning_rate` instead.\n",
                        "  super().__init__(name, **kwargs)\n"
                    ]
                }
            ],
            "source": [
                "#compile the model with RMSprob with learning rate\n",
                "from keras import optimizers\n",
                "model.compile(loss = 'binary_crossentropy', optimizer = optimizers.RMSprop(lr=1e-4), metrics = ['acc'])"
            ]
        },
        {
            "cell_type": "code",
            "execution_count": 8,
            "metadata": {},
            "outputs": [
                {
                    "name": "stdout",
                    "output_type": "stream",
                    "text": [
                        "Found 10000 images belonging to 2 classes.\n",
                        "Found 2000 images belonging to 2 classes.\n"
                    ]
                }
            ],
            "source": [
                "from keras.preprocessing.image import ImageDataGenerator\n",
                "\n",
                "#normalize the image pixel value to be between 0 and 1\n",
                "train_datagen = ImageDataGenerator(rescale=1./255)\n",
                "test_datagen = ImageDataGenerator(rescale=1./255)\n",
                "\n",
                "train_generator = train_datagen.flow_from_directory(\n",
                "                    'data/train_another', \n",
                "                    target_size = (150,150),\n",
                "                    batch_size = 20,\n",
                "                    class_mode = 'binary')\n",
                "validation_generator = test_datagen.flow_from_directory(\n",
                "                    'data/validation_another',\n",
                "                    target_size = (150,150),\n",
                "                    batch_size = 20,\n",
                "                    class_mode = 'binary')"
            ]
        },
        {
            "cell_type": "code",
            "execution_count": 9,
            "metadata": {},
            "outputs": [
                {
                    "name": "stderr",
                    "output_type": "stream",
                    "text": [
                        "/tmp/ipykernel_980/687701678.py:1: UserWarning: `Model.fit_generator` is deprecated and will be removed in a future version. Please use `Model.fit`, which supports generators.\n",
                        "  history = model.fit_generator(\n"
                    ]
                },
                {
                    "name": "stdout",
                    "output_type": "stream",
                    "text": [
                        "Epoch 1/50\n"
                    ]
                },
                {
                    "name": "stderr",
                    "output_type": "stream",
                    "text": [
                        "2022-12-24 04:08:54.574275: I tensorflow/compiler/xla/stream_executor/cuda/cuda_dnn.cc:428] Loaded cuDNN version 8401\n"
                    ]
                },
                {
                    "name": "stdout",
                    "output_type": "stream",
                    "text": [
                        "100/100 [==============================] - 55s 453ms/step - loss: 0.6377 - acc: 0.6530 - val_loss: 0.5298 - val_acc: 0.7880\n",
                        "Epoch 2/50\n",
                        "100/100 [==============================] - 39s 394ms/step - loss: 0.5264 - acc: 0.7565 - val_loss: 0.6108 - val_acc: 0.6720\n",
                        "Epoch 3/50\n",
                        "100/100 [==============================] - 37s 375ms/step - loss: 0.4740 - acc: 0.7820 - val_loss: 0.6477 - val_acc: 0.6240\n",
                        "Epoch 4/50\n",
                        "100/100 [==============================] - 36s 358ms/step - loss: 0.4387 - acc: 0.8075 - val_loss: 0.4475 - val_acc: 0.7890\n",
                        "Epoch 5/50\n",
                        "100/100 [==============================] - 39s 392ms/step - loss: 0.4089 - acc: 0.8260 - val_loss: 0.3558 - val_acc: 0.8650\n",
                        "Epoch 6/50\n",
                        "100/100 [==============================] - 36s 358ms/step - loss: 0.3628 - acc: 0.8600 - val_loss: 0.3407 - val_acc: 0.8650\n",
                        "Epoch 7/50\n",
                        "100/100 [==============================] - 41s 412ms/step - loss: 0.3570 - acc: 0.8590 - val_loss: 0.3550 - val_acc: 0.8570\n",
                        "Epoch 8/50\n",
                        "100/100 [==============================] - 33s 333ms/step - loss: 0.3550 - acc: 0.8585 - val_loss: 0.3118 - val_acc: 0.8740\n",
                        "Epoch 9/50\n",
                        "100/100 [==============================] - 34s 341ms/step - loss: 0.3458 - acc: 0.8585 - val_loss: 0.2847 - val_acc: 0.8830\n",
                        "Epoch 10/50\n",
                        "100/100 [==============================] - 32s 316ms/step - loss: 0.2927 - acc: 0.8870 - val_loss: 0.2687 - val_acc: 0.8940\n",
                        "Epoch 11/50\n",
                        "100/100 [==============================] - 33s 328ms/step - loss: 0.2881 - acc: 0.8900 - val_loss: 0.2688 - val_acc: 0.9040\n",
                        "Epoch 12/50\n",
                        "100/100 [==============================] - 31s 307ms/step - loss: 0.2903 - acc: 0.8930 - val_loss: 0.2389 - val_acc: 0.9120\n",
                        "Epoch 13/50\n",
                        "100/100 [==============================] - 34s 336ms/step - loss: 0.2546 - acc: 0.9005 - val_loss: 0.2162 - val_acc: 0.9140\n",
                        "Epoch 14/50\n",
                        "100/100 [==============================] - 31s 311ms/step - loss: 0.2192 - acc: 0.9175 - val_loss: 0.2411 - val_acc: 0.8930\n",
                        "Epoch 15/50\n",
                        "100/100 [==============================] - 31s 304ms/step - loss: 0.2492 - acc: 0.8965 - val_loss: 0.2108 - val_acc: 0.9250\n",
                        "Epoch 16/50\n",
                        "100/100 [==============================] - 30s 305ms/step - loss: 0.2198 - acc: 0.9045 - val_loss: 0.3145 - val_acc: 0.8600\n",
                        "Epoch 17/50\n",
                        "100/100 [==============================] - 30s 300ms/step - loss: 0.2219 - acc: 0.9060 - val_loss: 0.1721 - val_acc: 0.9310\n",
                        "Epoch 18/50\n",
                        "100/100 [==============================] - 30s 304ms/step - loss: 0.1755 - acc: 0.9250 - val_loss: 0.1865 - val_acc: 0.9170\n",
                        "Epoch 19/50\n",
                        "100/100 [==============================] - 30s 300ms/step - loss: 0.1961 - acc: 0.9145 - val_loss: 0.2568 - val_acc: 0.8960\n",
                        "Epoch 20/50\n",
                        "100/100 [==============================] - 30s 302ms/step - loss: 0.1580 - acc: 0.9310 - val_loss: 0.1304 - val_acc: 0.9470\n",
                        "Epoch 21/50\n",
                        "100/100 [==============================] - 31s 315ms/step - loss: 0.1725 - acc: 0.9335 - val_loss: 0.1358 - val_acc: 0.9470\n",
                        "Epoch 22/50\n",
                        "100/100 [==============================] - 30s 303ms/step - loss: 0.1537 - acc: 0.9405 - val_loss: 0.1368 - val_acc: 0.9400\n",
                        "Epoch 23/50\n",
                        "100/100 [==============================] - 30s 301ms/step - loss: 0.1719 - acc: 0.9255 - val_loss: 0.1360 - val_acc: 0.9440\n",
                        "Epoch 24/50\n",
                        "100/100 [==============================] - 32s 321ms/step - loss: 0.1532 - acc: 0.9490 - val_loss: 0.1291 - val_acc: 0.9500\n",
                        "Epoch 25/50\n",
                        "100/100 [==============================] - 31s 309ms/step - loss: 0.1382 - acc: 0.9400 - val_loss: 0.1596 - val_acc: 0.9400\n",
                        "Epoch 26/50\n",
                        "100/100 [==============================] - 30s 304ms/step - loss: 0.1614 - acc: 0.9420 - val_loss: 0.1417 - val_acc: 0.9510\n",
                        "Epoch 27/50\n",
                        "100/100 [==============================] - 30s 303ms/step - loss: 0.1332 - acc: 0.9455 - val_loss: 0.1760 - val_acc: 0.9210\n",
                        "Epoch 28/50\n",
                        "100/100 [==============================] - 30s 299ms/step - loss: 0.1342 - acc: 0.9470 - val_loss: 0.1273 - val_acc: 0.9530\n",
                        "Epoch 29/50\n",
                        "100/100 [==============================] - 30s 303ms/step - loss: 0.1379 - acc: 0.9435 - val_loss: 0.1256 - val_acc: 0.9510\n",
                        "Epoch 30/50\n",
                        "100/100 [==============================] - 32s 321ms/step - loss: 0.1296 - acc: 0.9485 - val_loss: 0.1210 - val_acc: 0.9520\n",
                        "Epoch 31/50\n",
                        "100/100 [==============================] - 30s 297ms/step - loss: 0.1405 - acc: 0.9435 - val_loss: 0.1086 - val_acc: 0.9500\n",
                        "Epoch 32/50\n",
                        "100/100 [==============================] - 30s 300ms/step - loss: 0.1126 - acc: 0.9555 - val_loss: 0.1303 - val_acc: 0.9450\n",
                        "Epoch 33/50\n",
                        "100/100 [==============================] - 30s 299ms/step - loss: 0.1054 - acc: 0.9565 - val_loss: 0.2151 - val_acc: 0.9180\n",
                        "Epoch 34/50\n",
                        "100/100 [==============================] - 29s 294ms/step - loss: 0.1274 - acc: 0.9540 - val_loss: 0.1015 - val_acc: 0.9590\n",
                        "Epoch 35/50\n",
                        "100/100 [==============================] - 30s 305ms/step - loss: 0.1182 - acc: 0.9545 - val_loss: 0.1765 - val_acc: 0.9450\n",
                        "Epoch 36/50\n",
                        "100/100 [==============================] - 30s 299ms/step - loss: 0.1230 - acc: 0.9535 - val_loss: 0.1355 - val_acc: 0.9510\n",
                        "Epoch 37/50\n",
                        "100/100 [==============================] - 30s 300ms/step - loss: 0.1114 - acc: 0.9585 - val_loss: 0.1374 - val_acc: 0.9390\n",
                        "Epoch 38/50\n",
                        "100/100 [==============================] - 31s 306ms/step - loss: 0.1258 - acc: 0.9505 - val_loss: 0.1989 - val_acc: 0.9340\n",
                        "Epoch 39/50\n",
                        "100/100 [==============================] - 30s 301ms/step - loss: 0.0999 - acc: 0.9640 - val_loss: 0.1756 - val_acc: 0.9310\n",
                        "Epoch 40/50\n",
                        "100/100 [==============================] - 30s 295ms/step - loss: 0.1126 - acc: 0.9580 - val_loss: 0.1289 - val_acc: 0.9600\n",
                        "Epoch 41/50\n",
                        "100/100 [==============================] - 31s 309ms/step - loss: 0.0941 - acc: 0.9640 - val_loss: 0.1234 - val_acc: 0.9540\n",
                        "Epoch 42/50\n",
                        "100/100 [==============================] - 31s 306ms/step - loss: 0.1033 - acc: 0.9580 - val_loss: 0.1085 - val_acc: 0.9600\n",
                        "Epoch 43/50\n",
                        "100/100 [==============================] - 30s 300ms/step - loss: 0.0990 - acc: 0.9615 - val_loss: 0.1374 - val_acc: 0.9460\n",
                        "Epoch 44/50\n",
                        "100/100 [==============================] - 30s 298ms/step - loss: 0.1040 - acc: 0.9585 - val_loss: 0.1672 - val_acc: 0.9490\n",
                        "Epoch 45/50\n",
                        "100/100 [==============================] - 30s 301ms/step - loss: 0.0834 - acc: 0.9645 - val_loss: 0.1060 - val_acc: 0.9630\n",
                        "Epoch 46/50\n",
                        "100/100 [==============================] - 30s 300ms/step - loss: 0.1017 - acc: 0.9630 - val_loss: 0.0846 - val_acc: 0.9650\n",
                        "Epoch 47/50\n",
                        "100/100 [==============================] - 30s 301ms/step - loss: 0.0894 - acc: 0.9700 - val_loss: 0.1241 - val_acc: 0.9620\n",
                        "Epoch 48/50\n",
                        "100/100 [==============================] - 30s 299ms/step - loss: 0.0962 - acc: 0.9690 - val_loss: 0.1341 - val_acc: 0.9450\n",
                        "Epoch 49/50\n",
                        "100/100 [==============================] - 30s 302ms/step - loss: 0.1007 - acc: 0.9630 - val_loss: 0.1199 - val_acc: 0.9590\n",
                        "Epoch 50/50\n",
                        "100/100 [==============================] - 34s 342ms/step - loss: 0.0770 - acc: 0.9700 - val_loss: 0.1010 - val_acc: 0.9570\n"
                    ]
                }
            ],
            "source": [
                "history = model.fit_generator(\n",
                "            train_generator,\n",
                "            steps_per_epoch=100,\n",
                "            epochs=50,\n",
                "            validation_data=validation_generator,\n",
                "            validation_steps=50)"
            ]
        },
        {
            "cell_type": "code",
            "execution_count": 10,
            "metadata": {},
            "outputs": [],
            "source": [
                "model.save('model.h5')"
            ]
        },
        {
            "cell_type": "code",
            "execution_count": null,
            "metadata": {},
            "outputs": [],
            "source": []
        }
    ],
    "metadata": {
        "kernelspec": {
            "display_name": "Python 3 (ipykernel)",
            "language": "python",
            "name": "python3"
        },
        "language_info": {
            "codemirror_mode": {
                "name": "ipython",
                "version": 3
            },
            "file_extension": ".py",
            "mimetype": "text/x-python",
            "name": "python",
            "nbconvert_exporter": "python",
            "pygments_lexer": "ipython3",
            "version": "3.10.6"
        },
        "vscode": {
            "interpreter": {
                "hash": "3751913ea9f5bd031e0b6a9f249a184a00fb379186ae8976a2500bce67b98d17"
            }
        }
    },
    "nbformat": 4,
    "nbformat_minor": 0
}
